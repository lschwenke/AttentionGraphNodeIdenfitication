{
 "cells": [
  {
   "cell_type": "code",
   "execution_count": null,
   "metadata": {},
   "outputs": [],
   "source": [
    "from modules import helper"
   ]
  },
  {
   "cell_type": "code",
   "execution_count": null,
   "metadata": {},
   "outputs": [],
   "source": [
    "k=0\n",
    "network_choice='network1'\n",
    "random_state_here=1\n",
    "doFT=True\n",
    "nbins=6\n",
    "ncoef=125\n",
    "header=6\n",
    "numOfAttentionLayers=2\n",
    "dffFaktor=0.5\n",
    "transDropout=0.0\n",
    "lastDropout=0.4\n",
    "gcnNodes=32\n",
    "finalLayer=256\n",
    "iLen=1000\n",
    "doStations=True\n",
    "saveName = f\"./results/results.n{network_choice}.rs{random_state_here}.ft{doFT}.s{nbins}.co{ncoef}.h{header}.aL{numOfAttentionLayers}.df{dffFaktor}.td{transDropout}.ld{lastDropout}.gn{gcnNodes}.fl{finalLayer}.st{doStations}.il{iLen}\"\n",
    "\n",
    "\n",
    "fresults = helper.load_obj(saveName)\n",
    "for index, v in np.ndenumerate(fresults):\n",
    "        fres = v\n",
    "print(fres.keys())\n",
    "\n",
    "print(np.mean(fres['mse']))\n",
    "fres['mse']\n",
    "\n",
    "\n",
    "avgMse = []\n",
    "for random_state_here in [1,2,3,4,5]:\n",
    "        saveName = f\"./results/results.n{network_choice}.rs{random_state_here}.ft{doFT}.s{nbins}.co{ncoef}.h{header}.aL{numOfAttentionLayers}.df{dffFaktor}.td{transDropout}.ld{lastDropout}.gn{gcnNodes}.fl{finalLayer}.st{doStations}.il{iLen}\"\n",
    "        \n",
    "        fresults = helper.load_obj(saveName)\n",
    "        for index, v in np.ndenumerate(fresults):\n",
    "                fres = v\n",
    "        print(fres.keys())\n",
    "        print(fres['lasa'].keys())\n",
    "\n",
    "        avgMse.append(np.mean(fres['mse']))\n",
    "        #print(fres['mse'])\n",
    "        #avgMse.append(np.mean(fres['lasa']['hlmaxmaxmax1.0,1.0']['mse']))\n",
    "        fres['mse']\n",
    "\n",
    "print(formatT(np.mean(avgMse)) +' \\pm '+ formatT(np.std(avgMse)))\n",
    "avgMse"
   ]
  }
 ],
 "metadata": {
  "kernelspec": {
   "display_name": "transformer",
   "language": "python",
   "name": "python3"
  },
  "language_info": {
   "codemirror_mode": {
    "name": "ipython",
    "version": 3
   },
   "file_extension": ".py",
   "mimetype": "text/x-python",
   "name": "python",
   "nbconvert_exporter": "python",
   "pygments_lexer": "ipython3",
   "version": "3.7.11"
  },
  "orig_nbformat": 4,
  "vscode": {
   "interpreter": {
    "hash": "65c5abed4221865104e95e72e8e91f212d4a3f321b26a0538caaab09898873da"
   }
  }
 },
 "nbformat": 4,
 "nbformat_minor": 2
}
